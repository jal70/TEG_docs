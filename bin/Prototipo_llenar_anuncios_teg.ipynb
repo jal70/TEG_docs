{
 "cells": [
  {
   "cell_type": "code",
   "execution_count": 140,
   "metadata": {},
   "outputs": [],
   "source": [
    "from ezodf import newdoc\n",
    "import os\n",
    "from os import path\n",
    "import zipfile\n",
    "import tempfile\n",
    "import unidecode\n",
    "import datetime"
   ]
  },
  {
   "cell_type": "code",
   "execution_count": 141,
   "metadata": {},
   "outputs": [],
   "source": [
    "def updateZip(zipname, filename, data):\n",
    "    # This function and general algoritm from:\n",
    "    # https://stackoverflow.com/questions/30596477/editing-a-odt-file-using-python\n",
    "    # generate a temp file\n",
    "    tmpfd, tmpname = tempfile.mkstemp(dir=os.path.dirname(zipname))\n",
    "    os.close(tmpfd)\n",
    "\n",
    "    # create a temp copy of the archive without filename\n",
    "    with zipfile.ZipFile(zipname, 'r') as zin:\n",
    "        with zipfile.ZipFile(tmpname, 'w') as zout:\n",
    "            zout.comment = zin.comment # preserve the comment\n",
    "            for item in zin.infolist():\n",
    "                if item.filename != filename:\n",
    "                    zout.writestr(item, zin.read(item.filename))\n",
    "\n",
    "    # replace with the temp archive\n",
    "    os.remove(zipname)\n",
    "    os.rename(tmpname, zipname)\n",
    "\n",
    "    # now add filename with its new data\n",
    "    with zipfile.ZipFile(zipname, mode='a', compression=zipfile.ZIP_DEFLATED) as zf:\n",
    "        zf.writestr(filename, data)"
   ]
  },
  {
   "cell_type": "code",
   "execution_count": 142,
   "metadata": {},
   "outputs": [],
   "source": [
    "def lee_pendientes(filename,sep=\"|\"):\n",
    "    papiro = []\n",
    "    with open(filename) as my_file:\n",
    "        for line in my_file:\n",
    "            if len(line.strip()) != 0: # Condición de linea (no) vacía\n",
    "                l=line.strip().split(sep) # \"Limpia\" los extremos y la pica en pedazos separados por espacios\n",
    "                #l=list(map(float, l)) # Convierte los elementos en números\n",
    "                papiro.append(l) # Agrega la fila de números al arreglo\n",
    "    dim=len(papiro[0])\n",
    "    print('dim=',dim)\n",
    "    return(papiro)"
   ]
  },
  {
   "cell_type": "code",
   "execution_count": 167,
   "metadata": {},
   "outputs": [],
   "source": [
    "nombre_generico=['XXX_Correlativo_XXX',\n",
    "'XXX_NOMBRE_ESTUDIANTE_XXX',\n",
    "'XXX_Titulo_XXX',\n",
    "'XXX_NOMBRE_TUTOR_XXX',\n",
    "'XXX_genero_tutor_XXX',\n",
    "'XXX_TITULO_TUTOR_XXX',\n",
    "'XXX_ADSCRIPCION_TUTOR_XXX',\n",
    "'XXX_NOMBRE_JURADO_1_XXX',\n",
    "'XXX_TITULO_JURADO_1_XXX',\n",
    "'XXX_ADS_JURADO_1_XXX',\n",
    "'XXX_NOMBRE_JURADO_2_XXX',\n",
    "'XXX_TITULO_JURADO_2_XXX',\n",
    "'XXX_ADS_JURADO_2_XXX',\n",
    "'XXX_NOMBRE_SUPLENTE_1_XXX',\n",
    "'XXX_TITULO_SUPLENTE_1_XXX',\n",
    "'XXX_NOMBRE_SUPLENTE_2_XXX',\n",
    "'XXX_TITULO_SUPLENTE_2_XXX',\n",
    "'XXX_NOMBRE_SEGUNDO_TUTOR_XXX',\n",
    "'XXX_TITULO_SEGUNDO_TUTOR_XXX',\n",
    "'XXX_ADSCRIPCION_SEGUNDO_TUTOR_XXX',\n",
    "'XXX_genero_tutor2_XXX',\n",
    "'XXX_ADS_SUPLENTE_1_XXX',\n",
    "'XXX_ADS_SUPLENTE_2_XXX',\n",
    "'XXX_Designacion_tutor_XXX',\n",
    "'XXX_Designacion_SEGUNDO_tutor_XXX',\n",
    "'XXX_COORDINADOR_A_JURADO_XXX',\n",
    "'XXX_ASESORIA_1_XXX',\n",
    "'XXX_ASESORIA_2_XXX'\n",
    "]"
   ]
  },
  {
   "cell_type": "code",
   "execution_count": 168,
   "metadata": {},
   "outputs": [],
   "source": [
    "def diccionario(lista_claves,lista_contenido):\n",
    "    dic={lista_claves[0]:lista_contenido[0],\n",
    "        lista_claves[1]:lista_contenido[1],\n",
    "        lista_claves[2]:lista_contenido[4],\n",
    "        lista_claves[3]:lista_contenido[5],\n",
    "        lista_claves[4]:lista_contenido[6],\n",
    "        lista_claves[5]:lista_contenido[7],\n",
    "        lista_claves[6]:lista_contenido[9],\n",
    "        lista_claves[7]:lista_contenido[10],\n",
    "        lista_claves[8]:lista_contenido[11],\n",
    "        lista_claves[9]:lista_contenido[13],\n",
    "        lista_claves[10]:lista_contenido[14],\n",
    "        lista_claves[11]:lista_contenido[15],\n",
    "        lista_claves[12]:lista_contenido[17],\n",
    "        lista_claves[13]:lista_contenido[18],\n",
    "        lista_claves[14]:lista_contenido[19],\n",
    "        lista_claves[15]:lista_contenido[21],\n",
    "        lista_claves[16]:lista_contenido[22],\n",
    "        lista_claves[17]:lista_contenido[31],\n",
    "        lista_claves[18]:lista_contenido[32],\n",
    "        lista_claves[19]:lista_contenido[34],\n",
    "        lista_claves[20]:lista_contenido[35],\n",
    "        lista_claves[21]:lista_contenido[36],\n",
    "        lista_claves[22]:lista_contenido[37],\n",
    "        lista_claves[23]:'',\n",
    "        lista_claves[24]:'',\n",
    "        lista_claves[25]:'',\n",
    "        lista_claves[26]:'',\n",
    "        lista_claves[27]:''\n",
    "        }\n",
    "    if lista_contenido[6]=='f':\n",
    "        dic[lista_claves[25]]='Coordinadora del Jurado'\n",
    "        dic[lista_claves[23]]='Tutora'\n",
    "        dic[lista_claves[26]]=lista_contenido[7] + ' ' + lista_contenido[5] + ' (Tutora -' + lista_contenido[9] + ')'\n",
    "    else:\n",
    "        dic[lista_claves[25]]='Coordinador del Jurado'\n",
    "        dic[lista_claves[23]]='Tutor'\n",
    "        dic[lista_claves[26]]=lista_contenido[7] + ' ' + lista_contenido[5] + ' (Tutor -' + lista_contenido[9] + ')'\n",
    "    if lista_contenido[35]=='f':\n",
    "        dic[lista_claves[24]]='Tutora'\n",
    "        dic[lista_claves[27]]=lista_contenido[32] + ' ' + lista_contenido[31] + ' (Tutora -' + lista_contenido[34] + ')'\n",
    "    if lista_contenido[35]=='m':\n",
    "        dic[lista_claves[24]]='Tutor'\n",
    "        dic[lista_claves[27]]=lista_contenido[32] + ' ' + lista_contenido[31] + ' (Tutor -' + lista_contenido[34] + ')'\n",
    "    return(dic)"
   ]
  },
  {
   "cell_type": "code",
   "execution_count": 169,
   "metadata": {
    "scrolled": true
   },
   "outputs": [
    {
     "name": "stdout",
     "output_type": "stream",
     "text": [
      "dim= 38\n",
      "afiliacion_s2\n",
      "XXX_COORDINADOR_A_JURADO_XXX\n"
     ]
    }
   ],
   "source": [
    "documentos_a_procesar=lee_pendientes('../input/lista_anuncios_teg.csv')\n",
    "print(documentos_a_procesar[0][37])\n",
    "print(nombre_generico[25])"
   ]
  },
  {
   "cell_type": "code",
   "execution_count": 170,
   "metadata": {
    "scrolled": false
   },
   "outputs": [
    {
     "name": "stdout",
     "output_type": "stream",
     "text": [
      "../temp/047_CI_22618625_Luis_Alfredo_Lira_Espinoza.odt\n",
      "Esteban Segundo Álvarez \n",
      "../temp/048_CI_20227134_David_Jesús_Oliva_Mogollón.odt\n",
      "Boutros Pierre Embaid Embaid\n",
      "../temp/049_CI_22785112_Claudia__Verowska_Barrios_Arvelaez.odt\n",
      "Ernesto  Fuenmayor Di Prisco\n"
     ]
    }
   ],
   "source": [
    "anho=str(datetime.datetime.now().year)\n",
    "file_tramite='../historial/' + 'tramites_por_enviar_' + anho + '.csv'\n",
    "if not(os.path.isfile(file_tramite)):\n",
    "    f=open(file_tramite,\"w+\")\n",
    "    f.write('|'.join(documentos_a_procesar[0])+'\\n')\n",
    "    f.close()\n",
    "for i in range(1,len(documentos_a_procesar)):\n",
    "    namef = '../temp/' + documentos_a_procesar[i][0].zfill(3) + '_CI_' + documentos_a_procesar[i][3] + '_' + documentos_a_procesar[i][1].replace(' ','_') +'.odt'\n",
    "    odt = newdoc(doctype='odt', filename=namef, template='../origen/plantilla_carta_invitacion_TEG.odt')\n",
    "    odt.save()\n",
    "    print(namef)\n",
    "    nombre_especifico=diccionario(nombre_generico,documentos_a_procesar[i])\n",
    "    print(nombre_especifico[nombre_generico[10]])\n",
    "    a = zipfile.ZipFile(namef)\n",
    "    content = a.read('content.xml')\n",
    "    content = str(content.decode(encoding='utf8'))\n",
    "    for j in nombre_generico:\n",
    "        content = str.replace(content,j, nombre_especifico[j])\n",
    "    content = content.encode(encoding='utf8') #https://www.journaldev.com/23617/python-string-encode-decode\n",
    "    updateZip(namef, 'content.xml', content)\n",
    "    f=open(file_tramite,\"a+\")\n",
    "    f.write('|'.join(documentos_a_procesar[i])+'\\n')\n",
    "    f.close()"
   ]
  },
  {
   "cell_type": "code",
   "execution_count": 139,
   "metadata": {},
   "outputs": [],
   "source": [
    "os.remove(\"../input/lista_cartas_jurado_teg.csv\") "
   ]
  },
  {
   "cell_type": "code",
   "execution_count": null,
   "metadata": {},
   "outputs": [],
   "source": []
  }
 ],
 "metadata": {
  "kernelspec": {
   "display_name": "Python 3",
   "language": "python",
   "name": "python3"
  },
  "language_info": {
   "codemirror_mode": {
    "name": "ipython",
    "version": 3
   },
   "file_extension": ".py",
   "mimetype": "text/x-python",
   "name": "python",
   "nbconvert_exporter": "python",
   "pygments_lexer": "ipython3",
   "version": "3.6.9"
  }
 },
 "nbformat": 4,
 "nbformat_minor": 2
}

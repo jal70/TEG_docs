{
 "cells": [
  {
   "cell_type": "code",
   "execution_count": 22,
   "metadata": {},
   "outputs": [],
   "source": [
    "from ezodf import newdoc\n",
    "import os\n",
    "import glob\n",
    "from os import path\n",
    "import zipfile\n",
    "import tempfile\n",
    "import unidecode\n",
    "import datetime"
   ]
  },
  {
   "cell_type": "code",
   "execution_count": 2,
   "metadata": {},
   "outputs": [],
   "source": [
    "def updateZip(zipname, filename, data):\n",
    "    # This function and general algoritm from:\n",
    "    # https://stackoverflow.com/questions/30596477/editing-a-odt-file-using-python\n",
    "    # generate a temp file\n",
    "    tmpfd, tmpname = tempfile.mkstemp(dir=os.path.dirname(zipname))\n",
    "    os.close(tmpfd)\n",
    "\n",
    "    # create a temp copy of the archive without filename\n",
    "    with zipfile.ZipFile(zipname, 'r') as zin:\n",
    "        with zipfile.ZipFile(tmpname, 'w') as zout:\n",
    "            zout.comment = zin.comment # preserve the comment\n",
    "            for item in zin.infolist():\n",
    "                if item.filename != filename:\n",
    "                    zout.writestr(item, zin.read(item.filename))\n",
    "\n",
    "    # replace with the temp archive\n",
    "    os.remove(zipname)\n",
    "    os.rename(tmpname, zipname)\n",
    "\n",
    "    # now add filename with its new data\n",
    "    with zipfile.ZipFile(zipname, mode='a', compression=zipfile.ZIP_DEFLATED) as zf:\n",
    "        zf.writestr(filename, data)"
   ]
  },
  {
   "cell_type": "code",
   "execution_count": 3,
   "metadata": {},
   "outputs": [],
   "source": [
    "def lee_pendientes(filename,sep=\"|\"):\n",
    "    papiro = []\n",
    "    with open(filename) as my_file:\n",
    "        for line in my_file:\n",
    "            if len(line.strip()) != 0: # Condición de linea (no) vacía\n",
    "                l=line.strip().split(sep) # \"Limpia\" los extremos y la pica en pedazos separados por espacios\n",
    "                #l=list(map(float, l)) # Convierte los elementos en números\n",
    "                papiro.append(l) # Agrega la fila de números al arreglo\n",
    "    dim=len(papiro[0])\n",
    "    print('dim=',dim)\n",
    "    return(papiro)"
   ]
  },
  {
   "cell_type": "code",
   "execution_count": 4,
   "metadata": {},
   "outputs": [],
   "source": [
    "nombre_generico=['XXX_SesionCE_XXX',\n",
    "'XXX_Correlativo_XXX',\n",
    "'XXX_EL_LA_Destinatario_A_XXX',\n",
    "'XXX_Titulo_Destinatario_XXX',\n",
    "'XXX_Designacion_Destinatario_XXX',\n",
    "'XXX_Nombre_Destinatario_1_XXX',\n",
    "'XXX_Nombre_Destinatario_2_XXX',\n",
    "'XXX_Nombre_Destinatario_3_XXX',\n",
    "'XXX_Nombre_Destinatario_4_XXX',\n",
    "'XXX_Nombre_Destinatario_XXX',\n",
    "'XXX_Institucion_Destinatario_XXX',\n",
    "'XXX_Direccion_Destinatario_1_XXX',\n",
    "'XXX_Direccion_Destinatario_2_XXX',\n",
    "'XXX_Email_Destinatario_XXX',\n",
    "'XXX_Genero_TUTOR_A_XXX',\n",
    "'XXX_TITULO_TUTOR_XXX',\n",
    "'XXX_Designacion_tutor_XXX',\n",
    "'XXX_NOMBRE_TUTOR_1_XXX',\n",
    "'XXX_NOMBRE_TUTOR_2_XXX',\n",
    "'XXX_NOMBRE_TUTOR_3_XXX',\n",
    "'XXX_NOMBRE_TUTOR_4_XXX',\n",
    "'XXX_NOMBRE_TUTOR_XXX',\n",
    "'XXX_ADSCRIPCION_TUTOR_XXX',\n",
    "'XXX_TITULO_JURADO_1_XXX',\n",
    "'XXX_NOMBRE_JURADO_1_1_XXX',\n",
    "'XXX_NOMBRE_JURADO_1_2_XXX',\n",
    "'XXX_NOMBRE_JURADO_1_3_XXX',\n",
    "'XXX_NOMBRE_JURADO_1_4_XXX',\n",
    "'XXX_NOMBRE_JURADO_1_XXX',\n",
    "'XXX_ADS_JURADO_1_XXX',\n",
    "'XXX_TITULO_JURADO_2_XXX',\n",
    "'XXX_NOMBRE_JURADO_2_1_XXX',\n",
    "'XXX_NOMBRE_JURADO_2_2_XXX',\n",
    "'XXX_NOMBRE_JURADO_2_3_XXX',\n",
    "'XXX_NOMBRE_JURADO_2_4_XXX',\n",
    "'XXX_NOMBRE_JURADO_2_XXX',\n",
    "'XXX_ADS_JURADO_2_XXX',\n",
    "'XXX_TITULO_SUPLENTE_1_XXX',\n",
    "'XXX_NOMBRE_SUPLENTE_1_1_XXX',\n",
    "'XXX_NOMBRE_SUPLENTE_1_2_XXX',\n",
    "'XXX_NOMBRE_SUPLENTE_1_3_XXX',\n",
    "'XXX_NOMBRE_SUPLENTE_1_4_XXX',\n",
    "'XXX_NOMBRE_SUPLENTE_1_XXX',\n",
    "'XXX_ADS_SUPLENTE_1_XXX',\n",
    "'XXX_TITULO_SUPLENTE_2_XXX',\n",
    "'XXX_NOMBRE_SUPLENTE_2_1_XXX',\n",
    "'XXX_NOMBRE_SUPLENTE_2_2_XXX',\n",
    "'XXX_NOMBRE_SUPLENTE_2_3_XXX',\n",
    "'XXX_NOMBRE_SUPLENTE_2_4_XXX',\n",
    "'XXX_NOMBRE_SUPLENTE_2_XXX',\n",
    "'XXX_ADS_SUPLENTE_2_XXX',\n",
    "'XXX_Genero_Tesista_XXX',\n",
    "'XXX_CI_est_XXX',\n",
    "'XXX_Nombre_Tesista_1_XXX',\n",
    "'XXX_Nombre_Tesista_2_XXX',\n",
    "'XXX_Nombre_Tesista_3_XXX',\n",
    "'XXX_Nombre_Tesista_4_XXX',\n",
    "'XXX_Nombre_Tesista_XXX',\n",
    "'XXX_Email_Tesista_XXX',\n",
    "'XXX_PTEG_XXX',\n",
    "'XXX_COORDINADOR_A_JURADO_XXX',\n",
    "'XXX_Estimade_Destinatario_XXX',\n",
    "'XXX_el_la_bachiller_XXX',\n",
    "'XXX_If_tutor_copia_estudiante_XXX']"
   ]
  },
  {
   "cell_type": "code",
   "execution_count": 64,
   "metadata": {},
   "outputs": [],
   "source": [
    "def diccionario(lista_claves,lista_contenido):\n",
    "    dic={lista_claves[0]:lista_contenido[3],\n",
    "        lista_claves[1]:lista_contenido[4],\n",
    "        lista_claves[2]:lista_contenido[5],\n",
    "        lista_claves[3]:lista_contenido[6],\n",
    "        lista_claves[4]:lista_contenido[7],\n",
    "        lista_claves[5]:lista_contenido[8],\n",
    "        lista_claves[6]:lista_contenido[9],\n",
    "        lista_claves[7]:lista_contenido[10],\n",
    "        lista_claves[8]:lista_contenido[11],\n",
    "        lista_claves[9]:lista_contenido[8] + ' ' + lista_contenido[9] + ' ' + lista_contenido[10] + ' ' + lista_contenido[11], #lista_contenido[24],\n",
    "        lista_claves[10]:lista_contenido[12],\n",
    "        lista_claves[11]:lista_contenido[13],\n",
    "        lista_claves[12]:lista_contenido[14],\n",
    "        lista_claves[13]:lista_contenido[15],\n",
    "        lista_claves[14]:lista_contenido[16],\n",
    "        lista_claves[15]:lista_contenido[17],\n",
    "        lista_claves[16]:lista_contenido[18],\n",
    "        lista_claves[17]:lista_contenido[19],\n",
    "        lista_claves[18]:lista_contenido[20],\n",
    "        lista_claves[19]:lista_contenido[21],\n",
    "        lista_claves[20]:lista_contenido[22],\n",
    "        lista_claves[21]:lista_contenido[19] + ' ' + lista_contenido[20] + ' ' + lista_contenido[21] + ' ' + lista_contenido[22], #lista_contenido[14],\n",
    "        lista_claves[22]:lista_contenido[23],\n",
    "        lista_claves[23]:lista_contenido[25],\n",
    "        lista_claves[24]:lista_contenido[27],\n",
    "        lista_claves[25]:lista_contenido[28],\n",
    "        lista_claves[26]:lista_contenido[29],\n",
    "        lista_claves[27]:lista_contenido[30],\n",
    "        lista_claves[28]:lista_contenido[27] + ' ' + lista_contenido[28] + ' ' + lista_contenido[29] + ' ' + lista_contenido[30], #lista_contenido[29],\n",
    "        lista_claves[29]:lista_contenido[31],   \n",
    "        lista_claves[30]:lista_contenido[33],\n",
    "        lista_claves[31]:lista_contenido[35],\n",
    "        lista_claves[32]:lista_contenido[36],\n",
    "        lista_claves[33]:lista_contenido[37],\n",
    "        lista_claves[34]:lista_contenido[38],\n",
    "        lista_claves[35]:lista_contenido[35] + ' ' + lista_contenido[36] + ' ' + lista_contenido[37] + ' ' + lista_contenido[38], #lista_contenido[17],\n",
    "        lista_claves[36]:lista_contenido[39],\n",
    "        lista_claves[37]:lista_contenido[41],\n",
    "        lista_claves[38]:lista_contenido[43],\n",
    "        lista_claves[39]:lista_contenido[44],\n",
    "        lista_claves[40]:lista_contenido[45],\n",
    "        lista_claves[41]:lista_contenido[46],\n",
    "        lista_claves[42]:lista_contenido[43] + ' ' + lista_contenido[44] + ' ' + lista_contenido[45] + ' ' + lista_contenido[46], #lista_contenido[17],\n",
    "        lista_claves[43]:lista_contenido[47],\n",
    "        lista_claves[44]:lista_contenido[49],\n",
    "        lista_claves[45]:lista_contenido[51],\n",
    "        lista_claves[46]:lista_contenido[52],\n",
    "        lista_claves[47]:lista_contenido[53],\n",
    "        lista_claves[48]:lista_contenido[54],\n",
    "        lista_claves[49]:lista_contenido[51] + ' ' + lista_contenido[52] + ' ' + lista_contenido[53] + ' ' + lista_contenido[54], #lista_contenido[17],\n",
    "        lista_claves[50]:lista_contenido[55],\n",
    "        lista_claves[51]:lista_contenido[56],\n",
    "        lista_claves[52]:lista_contenido[57],\n",
    "        lista_claves[53]:lista_contenido[58],\n",
    "        lista_claves[54]:lista_contenido[59],\n",
    "        lista_claves[55]:lista_contenido[60],\n",
    "        lista_claves[56]:lista_contenido[61],\n",
    "        lista_claves[57]:lista_contenido[58] + ' ' + lista_contenido[59] + ' ' + lista_contenido[60] + ' ' + lista_contenido[61], #lista_contenido[17],\n",
    "        lista_claves[58]:lista_contenido[62],\n",
    "        lista_claves[59]:lista_contenido[63],\n",
    "        lista_claves[60]:'',\n",
    "        lista_claves[61]:'',\n",
    "        lista_claves[62]:'',\n",
    "        lista_claves[63]:''\n",
    "        }\n",
    "    #if lista_contenido[14]=='f':\n",
    "    if lista_contenido[13]=='f':\n",
    "        dic[lista_claves[60]]='Coordinadora del Jurado'\n",
    "    else:\n",
    "        #print(lista_contenido[14])\n",
    "        dic[lista_claves[60]]='Coordinador del Jurado'\n",
    "    #if lista_contenido[6]=='f':\n",
    "    if lista_contenido[5]=='f':\n",
    "        dic[lista_claves[61]]='Estimada'\n",
    "        #print(lista_contenido[6]+dic[lista_claves[61]])\n",
    "    else:\n",
    "        dic[lista_claves[61]]='Estimado'\n",
    "        #print(lista_contenido[6]+dic[lista_claves[61]])\n",
    "    #if lista_contenido[51]=='f':\n",
    "    if lista_contenido[50]=='f':\n",
    "        dic[lista_claves[62]]='la'\n",
    "    else:\n",
    "        dic[lista_claves[62]]='el'\n",
    "    if lista_contenido[1]=='Tutor' or lista_contenido[1]=='Estudiante':\n",
    "        dic[lista_claves[63]]='cc' + ' ' + lista_contenido[58] + ' ' + lista_contenido[59] + ' ' + lista_contenido[60] + ' ' + lista_contenido[61]\n",
    "    return(dic)"
   ]
  },
  {
   "cell_type": "code",
   "execution_count": 69,
   "metadata": {
    "scrolled": true
   },
   "outputs": [
    {
     "name": "stdout",
     "output_type": "stream",
     "text": [
      "dim= 73\n",
      "ci_est\n",
      "XXX_COORDINADOR_A_JURADO_XXX\n"
     ]
    }
   ],
   "source": [
    "documentos_a_procesar=lee_pendientes('../input/lista_cartas_jurado_pteg.csv')\n",
    "print(documentos_a_procesar[0][57])\n",
    "print(nombre_generico[60])\n",
    "#documentos_a_procesar[4]"
   ]
  },
  {
   "cell_type": "code",
   "execution_count": 68,
   "metadata": {
    "scrolled": false
   },
   "outputs": [
    {
     "name": "stdout",
     "output_type": "stream",
     "text": [
      "../temp/700_CI_26574968_Tutor_Fermín_Dalmagro.odt\n",
      "f\n",
      "../temp/700_CI_26574968_Estudiante_Fermín_Dalmagro.odt\n",
      "f\n",
      "../temp/701_CI_26574968_Jurado1_José_López.odt\n",
      "f\n",
      "../temp/702_CI_26574968_Jurado2_Rosa_Mujica.odt\n",
      "f\n",
      "../temp/703_CI_26574968_Suplente1_Carolina_Bessega.odt\n",
      "f\n",
      "../temp/704_CI_26574968_Suplente2_Esteban_Álvarez.odt\n",
      "f\n",
      "../temp/705_CI_26574968_Tutor2_Efrain_Gatuzz.odt\n",
      "f\n",
      "../temp/706_CI_24663334_Tutor_Fermín_Dalmagro.odt\n",
      "m\n",
      "../temp/706_CI_24663334_Estudiante_Fermín_Dalmagro.odt\n",
      "m\n",
      "../temp/707_CI_24663334_Jurado1_Esteban_Álvarez.odt\n",
      "m\n",
      "../temp/708_CI_24663334_Jurado2_Efrain_Gatuzz.odt\n",
      "m\n",
      "../temp/709_CI_24663334_Suplente1_Rosa_Mujica.odt\n",
      "m\n",
      "../temp/710_CI_24663334_Suplente2_Ernesto_Fuenmayor.odt\n",
      "m\n",
      "../temp/711_CI_24663334_Tutor2_José_Peña.odt\n",
      "m\n"
     ]
    }
   ],
   "source": [
    "anho=str(datetime.datetime.now())\n",
    "file_tramite='../historial/' + 'tramites_por_enviar_' + anho + '.csv'\n",
    "if not(os.path.isfile(file_tramite)):\n",
    "    f=open(file_tramite,\"w+\")\n",
    "    f.write('|'.join(documentos_a_procesar[0])+'\\n')\n",
    "    f.close()\n",
    "for i in range(1,len(documentos_a_procesar)):\n",
    "    namef = '../temp/' + documentos_a_procesar[i][4].zfill(3) + '_CI_' + documentos_a_procesar[i][57] + '_' + documentos_a_procesar[i][1].replace(' ','_') + '_' + documentos_a_procesar[i][8] + '_' + documentos_a_procesar[i][10] +'.odt'\n",
    "    odt = newdoc(doctype='odt', filename=namef, template='../origen/plantilla_carta_jurados_PTEG.odt')\n",
    "    odt.save()\n",
    "    print(namef)\n",
    "    nombre_especifico=diccionario(nombre_generico,documentos_a_procesar[i])\n",
    "    print(nombre_especifico[nombre_generico[51]])\n",
    "    a = zipfile.ZipFile(namef)\n",
    "    content = a.read('content.xml')\n",
    "    content = str(content.decode(encoding='utf8'))\n",
    "    for j in nombre_generico:\n",
    "        content = str.replace(content,j, nombre_especifico[j])\n",
    "    content = content.encode(encoding='utf8') #https://www.journaldev.com/23617/python-string-encode-decode\n",
    "    updateZip(namef, 'content.xml', content)\n",
    "    f=open(file_tramite,\"a+\")\n",
    "    f.write('|'.join(documentos_a_procesar[i])+'\\n')\n",
    "    f.close()"
   ]
  },
  {
   "cell_type": "markdown",
   "metadata": {},
   "source": [
    "## Borrar archivo historial"
   ]
  },
  {
   "cell_type": "code",
   "execution_count": 66,
   "metadata": {},
   "outputs": [],
   "source": [
    "os.remove(file_tramite)"
   ]
  },
  {
   "cell_type": "markdown",
   "metadata": {},
   "source": [
    "## Borrar cartas"
   ]
  },
  {
   "cell_type": "code",
   "execution_count": 67,
   "metadata": {},
   "outputs": [],
   "source": [
    "# https://stackoverflow.com/questions/1548704/delete-multiple-files-matching-a-pattern\n",
    "for f in glob.glob(\"../temp/*.odt\"):\n",
    "    os.remove(f)"
   ]
  },
  {
   "cell_type": "markdown",
   "metadata": {},
   "source": [
    "## Borrar archivo input"
   ]
  },
  {
   "cell_type": "code",
   "execution_count": 54,
   "metadata": {},
   "outputs": [],
   "source": [
    "#os.remove(\"../input/lista_cartas_jurado_pteg.csv\") "
   ]
  },
  {
   "cell_type": "code",
   "execution_count": null,
   "metadata": {},
   "outputs": [],
   "source": []
  }
 ],
 "metadata": {
  "kernelspec": {
   "display_name": "Python 3",
   "language": "python",
   "name": "python3"
  },
  "language_info": {
   "codemirror_mode": {
    "name": "ipython",
    "version": 3
   },
   "file_extension": ".py",
   "mimetype": "text/x-python",
   "name": "python",
   "nbconvert_exporter": "python",
   "pygments_lexer": "ipython3",
   "version": "3.5.2"
  }
 },
 "nbformat": 4,
 "nbformat_minor": 2
}
